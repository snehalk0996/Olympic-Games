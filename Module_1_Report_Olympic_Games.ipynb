{
  "nbformat": 4,
  "nbformat_minor": 0,
  "metadata": {
    "colab": {
      "provenance": []
    },
    "kernelspec": {
      "name": "ir",
      "display_name": "R"
    },
    "language_info": {
      "name": "R"
    }
  },
  "cells": [
    {
      "cell_type": "markdown",
      "source": [
        "![logo_color.svg](data:image/svg+xml;base64,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)"
      ],
      "metadata": {
        "id": "-PpF9aP4ixla"
      }
    },
    {
      "cell_type": "markdown",
      "source": [
        "# **Olympic games history**\n",
        "\n",
        "\n",
        "## **Analysis of the athletes to select the right sport and athlete to sponsor**\n",
        "### Snehal Sugandh Kamble\n",
        "\n",
        "\n",
        "---\n",
        "\n",
        "\n",
        "\n",
        "---\n",
        "\n"
      ],
      "metadata": {
        "id": "WvJx-J8Vtmqq"
      }
    },
    {
      "cell_type": "markdown",
      "source": [
        "# **`Objective :`**\n",
        "\n",
        "The objective of this report is to analyze data of 120 years of Olympic history of athletes and extract significant insights to make informed decisions.This data is derived from Kaggle.com and Kellogg's is the main sponsor for the next Olympic games.\n",
        "\n",
        "We aspire to understand the relevant pattern, recognize victorious player and popular games that have been most played and notable momentousness.For the better understanding of data, we intend to create plot graph after sorting the top players.\n",
        "\n",
        "Our analysis will aid Kellogg's to select the right sport and athlete who deserves sponsorship based on the achievements and performance of the player over the previous years."
      ],
      "metadata": {
        "id": "0GdOp5ksRU4s"
      }
    },
    {
      "cell_type": "markdown",
      "source": [
        "\n",
        "\n",
        "Assigning name to the given data and reading the file\n",
        "\n"
      ],
      "metadata": {
        "id": "0zzXrOwcP-zP"
      }
    },
    {
      "cell_type": "code",
      "execution_count": null,
      "metadata": {
        "id": "wp7t4yw0qr5G"
      },
      "outputs": [],
      "source": [
        "athlete_events <- read.csv(\"/athlete_events.csv\")"
      ]
    },
    {
      "cell_type": "markdown",
      "source": [
        "\n",
        "\n",
        "*   Printing head of data\n",
        "\n"
      ],
      "metadata": {
        "id": "ARZv-Tx3RIqD"
      }
    },
    {
      "cell_type": "code",
      "source": [
        "head(athlete_events)"
      ],
      "metadata": {
        "colab": {
          "base_uri": "https://localhost:8080/",
          "height": 286
        },
        "id": "VPwZ2IDPuN1n",
        "outputId": "fd5249c4-8bfd-450c-d201-ee4b9b96ae16"
      },
      "execution_count": null,
      "outputs": [
        {
          "output_type": "display_data",
          "data": {
            "text/html": [
              "<table class=\"dataframe\">\n",
              "<caption>A data.frame: 6 × 15</caption>\n",
              "<thead>\n",
              "\t<tr><th></th><th scope=col>ID</th><th scope=col>Name</th><th scope=col>Sex</th><th scope=col>Age</th><th scope=col>Height</th><th scope=col>Weight</th><th scope=col>Team</th><th scope=col>NOC</th><th scope=col>Games</th><th scope=col>Year</th><th scope=col>Season</th><th scope=col>City</th><th scope=col>Sport</th><th scope=col>Event</th><th scope=col>Medal</th></tr>\n",
              "\t<tr><th></th><th scope=col>&lt;int&gt;</th><th scope=col>&lt;chr&gt;</th><th scope=col>&lt;chr&gt;</th><th scope=col>&lt;int&gt;</th><th scope=col>&lt;int&gt;</th><th scope=col>&lt;dbl&gt;</th><th scope=col>&lt;chr&gt;</th><th scope=col>&lt;chr&gt;</th><th scope=col>&lt;chr&gt;</th><th scope=col>&lt;int&gt;</th><th scope=col>&lt;chr&gt;</th><th scope=col>&lt;chr&gt;</th><th scope=col>&lt;chr&gt;</th><th scope=col>&lt;chr&gt;</th><th scope=col>&lt;chr&gt;</th></tr>\n",
              "</thead>\n",
              "<tbody>\n",
              "\t<tr><th scope=row>1</th><td>1</td><td>A Dijiang               </td><td>M</td><td>24</td><td>180</td><td>80</td><td>China         </td><td>CHN</td><td>1992 Summer</td><td>1992</td><td>Summer</td><td>Barcelona</td><td>Basketball   </td><td>Basketball Men's Basketball       </td><td>NA  </td></tr>\n",
              "\t<tr><th scope=row>2</th><td>2</td><td>A Lamusi                </td><td>M</td><td>23</td><td>170</td><td>60</td><td>China         </td><td>CHN</td><td>2012 Summer</td><td>2012</td><td>Summer</td><td>London   </td><td>Judo         </td><td>Judo Men's Extra-Lightweight      </td><td>NA  </td></tr>\n",
              "\t<tr><th scope=row>3</th><td>3</td><td>Gunnar Nielsen Aaby     </td><td>M</td><td>24</td><td> NA</td><td>NA</td><td>Denmark       </td><td>DEN</td><td>1920 Summer</td><td>1920</td><td>Summer</td><td>Antwerpen</td><td>Football     </td><td>Football Men's Football           </td><td>NA  </td></tr>\n",
              "\t<tr><th scope=row>4</th><td>4</td><td>Edgar Lindenau Aabye    </td><td>M</td><td>34</td><td> NA</td><td>NA</td><td>Denmark/Sweden</td><td>DEN</td><td>1900 Summer</td><td>1900</td><td>Summer</td><td>Paris    </td><td>Tug-Of-War   </td><td>Tug-Of-War Men's Tug-Of-War       </td><td>Gold</td></tr>\n",
              "\t<tr><th scope=row>5</th><td>5</td><td>Christine Jacoba Aaftink</td><td>F</td><td>21</td><td>185</td><td>82</td><td>Netherlands   </td><td>NED</td><td>1988 Winter</td><td>1988</td><td>Winter</td><td>Calgary  </td><td>Speed Skating</td><td>Speed Skating Women's 500 metres  </td><td>NA  </td></tr>\n",
              "\t<tr><th scope=row>6</th><td>5</td><td>Christine Jacoba Aaftink</td><td>F</td><td>21</td><td>185</td><td>82</td><td>Netherlands   </td><td>NED</td><td>1988 Winter</td><td>1988</td><td>Winter</td><td>Calgary  </td><td>Speed Skating</td><td>Speed Skating Women's 1,000 metres</td><td>NA  </td></tr>\n",
              "</tbody>\n",
              "</table>\n"
            ],
            "text/markdown": "\nA data.frame: 6 × 15\n\n| <!--/--> | ID &lt;int&gt; | Name &lt;chr&gt; | Sex &lt;chr&gt; | Age &lt;int&gt; | Height &lt;int&gt; | Weight &lt;dbl&gt; | Team &lt;chr&gt; | NOC &lt;chr&gt; | Games &lt;chr&gt; | Year &lt;int&gt; | Season &lt;chr&gt; | City &lt;chr&gt; | Sport &lt;chr&gt; | Event &lt;chr&gt; | Medal &lt;chr&gt; |\n|---|---|---|---|---|---|---|---|---|---|---|---|---|---|---|---|\n| 1 | 1 | A Dijiang                | M | 24 | 180 | 80 | China          | CHN | 1992 Summer | 1992 | Summer | Barcelona | Basketball    | Basketball Men's Basketball        | NA   |\n| 2 | 2 | A Lamusi                 | M | 23 | 170 | 60 | China          | CHN | 2012 Summer | 2012 | Summer | London    | Judo          | Judo Men's Extra-Lightweight       | NA   |\n| 3 | 3 | Gunnar Nielsen Aaby      | M | 24 |  NA | NA | Denmark        | DEN | 1920 Summer | 1920 | Summer | Antwerpen | Football      | Football Men's Football            | NA   |\n| 4 | 4 | Edgar Lindenau Aabye     | M | 34 |  NA | NA | Denmark/Sweden | DEN | 1900 Summer | 1900 | Summer | Paris     | Tug-Of-War    | Tug-Of-War Men's Tug-Of-War        | Gold |\n| 5 | 5 | Christine Jacoba Aaftink | F | 21 | 185 | 82 | Netherlands    | NED | 1988 Winter | 1988 | Winter | Calgary   | Speed Skating | Speed Skating Women's 500 metres   | NA   |\n| 6 | 5 | Christine Jacoba Aaftink | F | 21 | 185 | 82 | Netherlands    | NED | 1988 Winter | 1988 | Winter | Calgary   | Speed Skating | Speed Skating Women's 1,000 metres | NA   |\n\n",
            "text/latex": "A data.frame: 6 × 15\n\\begin{tabular}{r|lllllllllllllll}\n  & ID & Name & Sex & Age & Height & Weight & Team & NOC & Games & Year & Season & City & Sport & Event & Medal\\\\\n  & <int> & <chr> & <chr> & <int> & <int> & <dbl> & <chr> & <chr> & <chr> & <int> & <chr> & <chr> & <chr> & <chr> & <chr>\\\\\n\\hline\n\t1 & 1 & A Dijiang                & M & 24 & 180 & 80 & China          & CHN & 1992 Summer & 1992 & Summer & Barcelona & Basketball    & Basketball Men's Basketball        & NA  \\\\\n\t2 & 2 & A Lamusi                 & M & 23 & 170 & 60 & China          & CHN & 2012 Summer & 2012 & Summer & London    & Judo          & Judo Men's Extra-Lightweight       & NA  \\\\\n\t3 & 3 & Gunnar Nielsen Aaby      & M & 24 &  NA & NA & Denmark        & DEN & 1920 Summer & 1920 & Summer & Antwerpen & Football      & Football Men's Football            & NA  \\\\\n\t4 & 4 & Edgar Lindenau Aabye     & M & 34 &  NA & NA & Denmark/Sweden & DEN & 1900 Summer & 1900 & Summer & Paris     & Tug-Of-War    & Tug-Of-War Men's Tug-Of-War        & Gold\\\\\n\t5 & 5 & Christine Jacoba Aaftink & F & 21 & 185 & 82 & Netherlands    & NED & 1988 Winter & 1988 & Winter & Calgary   & Speed Skating & Speed Skating Women's 500 metres   & NA  \\\\\n\t6 & 5 & Christine Jacoba Aaftink & F & 21 & 185 & 82 & Netherlands    & NED & 1988 Winter & 1988 & Winter & Calgary   & Speed Skating & Speed Skating Women's 1,000 metres & NA  \\\\\n\\end{tabular}\n",
            "text/plain": [
              "  ID Name                     Sex Age Height Weight Team           NOC\n",
              "1 1  A Dijiang                M   24  180    80     China          CHN\n",
              "2 2  A Lamusi                 M   23  170    60     China          CHN\n",
              "3 3  Gunnar Nielsen Aaby      M   24   NA    NA     Denmark        DEN\n",
              "4 4  Edgar Lindenau Aabye     M   34   NA    NA     Denmark/Sweden DEN\n",
              "5 5  Christine Jacoba Aaftink F   21  185    82     Netherlands    NED\n",
              "6 5  Christine Jacoba Aaftink F   21  185    82     Netherlands    NED\n",
              "  Games       Year Season City      Sport        \n",
              "1 1992 Summer 1992 Summer Barcelona Basketball   \n",
              "2 2012 Summer 2012 Summer London    Judo         \n",
              "3 1920 Summer 1920 Summer Antwerpen Football     \n",
              "4 1900 Summer 1900 Summer Paris     Tug-Of-War   \n",
              "5 1988 Winter 1988 Winter Calgary   Speed Skating\n",
              "6 1988 Winter 1988 Winter Calgary   Speed Skating\n",
              "  Event                              Medal\n",
              "1 Basketball Men's Basketball        NA   \n",
              "2 Judo Men's Extra-Lightweight       NA   \n",
              "3 Football Men's Football            NA   \n",
              "4 Tug-Of-War Men's Tug-Of-War        Gold \n",
              "5 Speed Skating Women's 500 metres   NA   \n",
              "6 Speed Skating Women's 1,000 metres NA   "
            ]
          },
          "metadata": {}
        }
      ]
    },
    {
      "cell_type": "markdown",
      "source": [
        "# `Data Exploration :`\n",
        "\n",
        "\n",
        "\n",
        "* Creating table of athletes who achieved medals in olympic games  \n",
        "* Assigned $ operator to access list for data frame athlete_events  \n",
        "* We used !is.na to eliminate names of athletes who bagged no medal  \n",
        "* Printing data containing 10 rows of athelets who achieved medals in olympic games\n",
        "\n"
      ],
      "metadata": {
        "id": "czbOHCTAYRlK"
      }
    },
    {
      "cell_type": "code",
      "source": [
        "medal <- athlete_events[!is.na(athlete_events$Medal), ]\n",
        "head(medal, 10)"
      ],
      "metadata": {
        "id": "ZK7DlRidxnJR",
        "colab": {
          "base_uri": "https://localhost:8080/",
          "height": 411
        },
        "outputId": "f58d764f-016a-477d-fc21-43cb90a0bf0c"
      },
      "execution_count": null,
      "outputs": [
        {
          "output_type": "display_data",
          "data": {
            "text/html": [
              "<table class=\"dataframe\">\n",
              "<caption>A data.frame: 10 × 15</caption>\n",
              "<thead>\n",
              "\t<tr><th></th><th scope=col>ID</th><th scope=col>Name</th><th scope=col>Sex</th><th scope=col>Age</th><th scope=col>Height</th><th scope=col>Weight</th><th scope=col>Team</th><th scope=col>NOC</th><th scope=col>Games</th><th scope=col>Year</th><th scope=col>Season</th><th scope=col>City</th><th scope=col>Sport</th><th scope=col>Event</th><th scope=col>Medal</th></tr>\n",
              "\t<tr><th></th><th scope=col>&lt;int&gt;</th><th scope=col>&lt;chr&gt;</th><th scope=col>&lt;chr&gt;</th><th scope=col>&lt;int&gt;</th><th scope=col>&lt;int&gt;</th><th scope=col>&lt;dbl&gt;</th><th scope=col>&lt;chr&gt;</th><th scope=col>&lt;chr&gt;</th><th scope=col>&lt;chr&gt;</th><th scope=col>&lt;int&gt;</th><th scope=col>&lt;chr&gt;</th><th scope=col>&lt;chr&gt;</th><th scope=col>&lt;chr&gt;</th><th scope=col>&lt;chr&gt;</th><th scope=col>&lt;chr&gt;</th></tr>\n",
              "</thead>\n",
              "<tbody>\n",
              "\t<tr><th scope=row>4</th><td> 4</td><td>Edgar Lindenau Aabye    </td><td>M</td><td>34</td><td> NA</td><td>NA</td><td>Denmark/Sweden</td><td>DEN</td><td>1900 Summer</td><td>1900</td><td>Summer</td><td>Paris      </td><td>Tug-Of-War   </td><td>Tug-Of-War Men's Tug-Of-War           </td><td>Gold  </td></tr>\n",
              "\t<tr><th scope=row>38</th><td>15</td><td>Arvo Ossian Aaltonen    </td><td>M</td><td>30</td><td> NA</td><td>NA</td><td>Finland       </td><td>FIN</td><td>1920 Summer</td><td>1920</td><td>Summer</td><td>Antwerpen  </td><td>Swimming     </td><td>Swimming Men's 200 metres Breaststroke</td><td>Bronze</td></tr>\n",
              "\t<tr><th scope=row>39</th><td>15</td><td>Arvo Ossian Aaltonen    </td><td>M</td><td>30</td><td> NA</td><td>NA</td><td>Finland       </td><td>FIN</td><td>1920 Summer</td><td>1920</td><td>Summer</td><td>Antwerpen  </td><td>Swimming     </td><td>Swimming Men's 400 metres Breaststroke</td><td>Bronze</td></tr>\n",
              "\t<tr><th scope=row>41</th><td>16</td><td>Juhamatti Tapio Aaltonen</td><td>M</td><td>28</td><td>184</td><td>85</td><td>Finland       </td><td>FIN</td><td>2014 Winter</td><td>2014</td><td>Winter</td><td>Sochi      </td><td>Ice Hockey   </td><td>Ice Hockey Men's Ice Hockey           </td><td>Bronze</td></tr>\n",
              "\t<tr><th scope=row>42</th><td>17</td><td>Paavo Johannes Aaltonen </td><td>M</td><td>28</td><td>175</td><td>64</td><td>Finland       </td><td>FIN</td><td>1948 Summer</td><td>1948</td><td>Summer</td><td>London     </td><td>Gymnastics   </td><td>Gymnastics Men's Individual All-Around</td><td>Bronze</td></tr>\n",
              "\t<tr><th scope=row>43</th><td>17</td><td>Paavo Johannes Aaltonen </td><td>M</td><td>28</td><td>175</td><td>64</td><td>Finland       </td><td>FIN</td><td>1948 Summer</td><td>1948</td><td>Summer</td><td>London     </td><td>Gymnastics   </td><td>Gymnastics Men's Team All-Around      </td><td>Gold  </td></tr>\n",
              "\t<tr><th scope=row>45</th><td>17</td><td>Paavo Johannes Aaltonen </td><td>M</td><td>28</td><td>175</td><td>64</td><td>Finland       </td><td>FIN</td><td>1948 Summer</td><td>1948</td><td>Summer</td><td>London     </td><td>Gymnastics   </td><td>Gymnastics Men's Horse Vault          </td><td>Gold  </td></tr>\n",
              "\t<tr><th scope=row>49</th><td>17</td><td>Paavo Johannes Aaltonen </td><td>M</td><td>28</td><td>175</td><td>64</td><td>Finland       </td><td>FIN</td><td>1948 Summer</td><td>1948</td><td>Summer</td><td>London     </td><td>Gymnastics   </td><td>Gymnastics Men's Pommelled Horse      </td><td>Gold  </td></tr>\n",
              "\t<tr><th scope=row>51</th><td>17</td><td>Paavo Johannes Aaltonen </td><td>M</td><td>32</td><td>175</td><td>64</td><td>Finland       </td><td>FIN</td><td>1952 Summer</td><td>1952</td><td>Summer</td><td>Helsinki   </td><td>Gymnastics   </td><td>Gymnastics Men's Team All-Around      </td><td>Bronze</td></tr>\n",
              "\t<tr><th scope=row>61</th><td>20</td><td>Kjetil Andr Aamodt      </td><td>M</td><td>20</td><td>176</td><td>85</td><td>Norway        </td><td>NOR</td><td>1992 Winter</td><td>1992</td><td>Winter</td><td>Albertville</td><td>Alpine Skiing</td><td>Alpine Skiing Men's Super G           </td><td>Gold  </td></tr>\n",
              "</tbody>\n",
              "</table>\n"
            ],
            "text/markdown": "\nA data.frame: 10 × 15\n\n| <!--/--> | ID &lt;int&gt; | Name &lt;chr&gt; | Sex &lt;chr&gt; | Age &lt;int&gt; | Height &lt;int&gt; | Weight &lt;dbl&gt; | Team &lt;chr&gt; | NOC &lt;chr&gt; | Games &lt;chr&gt; | Year &lt;int&gt; | Season &lt;chr&gt; | City &lt;chr&gt; | Sport &lt;chr&gt; | Event &lt;chr&gt; | Medal &lt;chr&gt; |\n|---|---|---|---|---|---|---|---|---|---|---|---|---|---|---|---|\n| 4 |  4 | Edgar Lindenau Aabye     | M | 34 |  NA | NA | Denmark/Sweden | DEN | 1900 Summer | 1900 | Summer | Paris       | Tug-Of-War    | Tug-Of-War Men's Tug-Of-War            | Gold   |\n| 38 | 15 | Arvo Ossian Aaltonen     | M | 30 |  NA | NA | Finland        | FIN | 1920 Summer | 1920 | Summer | Antwerpen   | Swimming      | Swimming Men's 200 metres Breaststroke | Bronze |\n| 39 | 15 | Arvo Ossian Aaltonen     | M | 30 |  NA | NA | Finland        | FIN | 1920 Summer | 1920 | Summer | Antwerpen   | Swimming      | Swimming Men's 400 metres Breaststroke | Bronze |\n| 41 | 16 | Juhamatti Tapio Aaltonen | M | 28 | 184 | 85 | Finland        | FIN | 2014 Winter | 2014 | Winter | Sochi       | Ice Hockey    | Ice Hockey Men's Ice Hockey            | Bronze |\n| 42 | 17 | Paavo Johannes Aaltonen  | M | 28 | 175 | 64 | Finland        | FIN | 1948 Summer | 1948 | Summer | London      | Gymnastics    | Gymnastics Men's Individual All-Around | Bronze |\n| 43 | 17 | Paavo Johannes Aaltonen  | M | 28 | 175 | 64 | Finland        | FIN | 1948 Summer | 1948 | Summer | London      | Gymnastics    | Gymnastics Men's Team All-Around       | Gold   |\n| 45 | 17 | Paavo Johannes Aaltonen  | M | 28 | 175 | 64 | Finland        | FIN | 1948 Summer | 1948 | Summer | London      | Gymnastics    | Gymnastics Men's Horse Vault           | Gold   |\n| 49 | 17 | Paavo Johannes Aaltonen  | M | 28 | 175 | 64 | Finland        | FIN | 1948 Summer | 1948 | Summer | London      | Gymnastics    | Gymnastics Men's Pommelled Horse       | Gold   |\n| 51 | 17 | Paavo Johannes Aaltonen  | M | 32 | 175 | 64 | Finland        | FIN | 1952 Summer | 1952 | Summer | Helsinki    | Gymnastics    | Gymnastics Men's Team All-Around       | Bronze |\n| 61 | 20 | Kjetil Andr Aamodt       | M | 20 | 176 | 85 | Norway         | NOR | 1992 Winter | 1992 | Winter | Albertville | Alpine Skiing | Alpine Skiing Men's Super G            | Gold   |\n\n",
            "text/latex": "A data.frame: 10 × 15\n\\begin{tabular}{r|lllllllllllllll}\n  & ID & Name & Sex & Age & Height & Weight & Team & NOC & Games & Year & Season & City & Sport & Event & Medal\\\\\n  & <int> & <chr> & <chr> & <int> & <int> & <dbl> & <chr> & <chr> & <chr> & <int> & <chr> & <chr> & <chr> & <chr> & <chr>\\\\\n\\hline\n\t4 &  4 & Edgar Lindenau Aabye     & M & 34 &  NA & NA & Denmark/Sweden & DEN & 1900 Summer & 1900 & Summer & Paris       & Tug-Of-War    & Tug-Of-War Men's Tug-Of-War            & Gold  \\\\\n\t38 & 15 & Arvo Ossian Aaltonen     & M & 30 &  NA & NA & Finland        & FIN & 1920 Summer & 1920 & Summer & Antwerpen   & Swimming      & Swimming Men's 200 metres Breaststroke & Bronze\\\\\n\t39 & 15 & Arvo Ossian Aaltonen     & M & 30 &  NA & NA & Finland        & FIN & 1920 Summer & 1920 & Summer & Antwerpen   & Swimming      & Swimming Men's 400 metres Breaststroke & Bronze\\\\\n\t41 & 16 & Juhamatti Tapio Aaltonen & M & 28 & 184 & 85 & Finland        & FIN & 2014 Winter & 2014 & Winter & Sochi       & Ice Hockey    & Ice Hockey Men's Ice Hockey            & Bronze\\\\\n\t42 & 17 & Paavo Johannes Aaltonen  & M & 28 & 175 & 64 & Finland        & FIN & 1948 Summer & 1948 & Summer & London      & Gymnastics    & Gymnastics Men's Individual All-Around & Bronze\\\\\n\t43 & 17 & Paavo Johannes Aaltonen  & M & 28 & 175 & 64 & Finland        & FIN & 1948 Summer & 1948 & Summer & London      & Gymnastics    & Gymnastics Men's Team All-Around       & Gold  \\\\\n\t45 & 17 & Paavo Johannes Aaltonen  & M & 28 & 175 & 64 & Finland        & FIN & 1948 Summer & 1948 & Summer & London      & Gymnastics    & Gymnastics Men's Horse Vault           & Gold  \\\\\n\t49 & 17 & Paavo Johannes Aaltonen  & M & 28 & 175 & 64 & Finland        & FIN & 1948 Summer & 1948 & Summer & London      & Gymnastics    & Gymnastics Men's Pommelled Horse       & Gold  \\\\\n\t51 & 17 & Paavo Johannes Aaltonen  & M & 32 & 175 & 64 & Finland        & FIN & 1952 Summer & 1952 & Summer & Helsinki    & Gymnastics    & Gymnastics Men's Team All-Around       & Bronze\\\\\n\t61 & 20 & Kjetil Andr Aamodt       & M & 20 & 176 & 85 & Norway         & NOR & 1992 Winter & 1992 & Winter & Albertville & Alpine Skiing & Alpine Skiing Men's Super G            & Gold  \\\\\n\\end{tabular}\n",
            "text/plain": [
              "   ID Name                     Sex Age Height Weight Team           NOC\n",
              "4   4 Edgar Lindenau Aabye     M   34   NA    NA     Denmark/Sweden DEN\n",
              "38 15 Arvo Ossian Aaltonen     M   30   NA    NA     Finland        FIN\n",
              "39 15 Arvo Ossian Aaltonen     M   30   NA    NA     Finland        FIN\n",
              "41 16 Juhamatti Tapio Aaltonen M   28  184    85     Finland        FIN\n",
              "42 17 Paavo Johannes Aaltonen  M   28  175    64     Finland        FIN\n",
              "43 17 Paavo Johannes Aaltonen  M   28  175    64     Finland        FIN\n",
              "45 17 Paavo Johannes Aaltonen  M   28  175    64     Finland        FIN\n",
              "49 17 Paavo Johannes Aaltonen  M   28  175    64     Finland        FIN\n",
              "51 17 Paavo Johannes Aaltonen  M   32  175    64     Finland        FIN\n",
              "61 20 Kjetil Andr Aamodt       M   20  176    85     Norway         NOR\n",
              "   Games       Year Season City        Sport        \n",
              "4  1900 Summer 1900 Summer Paris       Tug-Of-War   \n",
              "38 1920 Summer 1920 Summer Antwerpen   Swimming     \n",
              "39 1920 Summer 1920 Summer Antwerpen   Swimming     \n",
              "41 2014 Winter 2014 Winter Sochi       Ice Hockey   \n",
              "42 1948 Summer 1948 Summer London      Gymnastics   \n",
              "43 1948 Summer 1948 Summer London      Gymnastics   \n",
              "45 1948 Summer 1948 Summer London      Gymnastics   \n",
              "49 1948 Summer 1948 Summer London      Gymnastics   \n",
              "51 1952 Summer 1952 Summer Helsinki    Gymnastics   \n",
              "61 1992 Winter 1992 Winter Albertville Alpine Skiing\n",
              "   Event                                  Medal \n",
              "4  Tug-Of-War Men's Tug-Of-War            Gold  \n",
              "38 Swimming Men's 200 metres Breaststroke Bronze\n",
              "39 Swimming Men's 400 metres Breaststroke Bronze\n",
              "41 Ice Hockey Men's Ice Hockey            Bronze\n",
              "42 Gymnastics Men's Individual All-Around Bronze\n",
              "43 Gymnastics Men's Team All-Around       Gold  \n",
              "45 Gymnastics Men's Horse Vault           Gold  \n",
              "49 Gymnastics Men's Pommelled Horse       Gold  \n",
              "51 Gymnastics Men's Team All-Around       Bronze\n",
              "61 Alpine Skiing Men's Super G            Gold  "
            ]
          },
          "metadata": {}
        }
      ]
    },
    {
      "cell_type": "markdown",
      "source": [
        "# **`One column selection : `**\n",
        "\n",
        "\n",
        "*   We selected column of Medal from athlete_events to obtain list of top 10 gold medalists\n",
        "*   We used equality operator to return value of gold medal only and printed 10 head values of athletes\n"
      ],
      "metadata": {
        "id": "jR6IHf-icrBn"
      }
    },
    {
      "cell_type": "code",
      "source": [
        "medal_gold <- medal[medal$Medal == \"Gold\", ]\n",
        "head(medal_gold,10)"
      ],
      "metadata": {
        "id": "xGaDWpiHu-_6",
        "colab": {
          "base_uri": "https://localhost:8080/",
          "height": 411
        },
        "outputId": "06e37308-034e-4f20-9874-42a7536818fe"
      },
      "execution_count": null,
      "outputs": [
        {
          "output_type": "display_data",
          "data": {
            "text/html": [
              "<table class=\"dataframe\">\n",
              "<caption>A data.frame: 10 × 15</caption>\n",
              "<thead>\n",
              "\t<tr><th></th><th scope=col>ID</th><th scope=col>Name</th><th scope=col>Sex</th><th scope=col>Age</th><th scope=col>Height</th><th scope=col>Weight</th><th scope=col>Team</th><th scope=col>NOC</th><th scope=col>Games</th><th scope=col>Year</th><th scope=col>Season</th><th scope=col>City</th><th scope=col>Sport</th><th scope=col>Event</th><th scope=col>Medal</th></tr>\n",
              "\t<tr><th></th><th scope=col>&lt;int&gt;</th><th scope=col>&lt;chr&gt;</th><th scope=col>&lt;chr&gt;</th><th scope=col>&lt;int&gt;</th><th scope=col>&lt;int&gt;</th><th scope=col>&lt;dbl&gt;</th><th scope=col>&lt;chr&gt;</th><th scope=col>&lt;chr&gt;</th><th scope=col>&lt;chr&gt;</th><th scope=col>&lt;int&gt;</th><th scope=col>&lt;chr&gt;</th><th scope=col>&lt;chr&gt;</th><th scope=col>&lt;chr&gt;</th><th scope=col>&lt;chr&gt;</th><th scope=col>&lt;chr&gt;</th></tr>\n",
              "</thead>\n",
              "<tbody>\n",
              "\t<tr><th scope=row>4</th><td> 4</td><td>Edgar Lindenau Aabye     </td><td>M</td><td>34</td><td> NA</td><td>NA</td><td>Denmark/Sweden</td><td>DEN</td><td>1900 Summer</td><td>1900</td><td>Summer</td><td>Paris         </td><td>Tug-Of-War   </td><td>Tug-Of-War Men's Tug-Of-War     </td><td>Gold</td></tr>\n",
              "\t<tr><th scope=row>43</th><td>17</td><td>Paavo Johannes Aaltonen  </td><td>M</td><td>28</td><td>175</td><td>64</td><td>Finland       </td><td>FIN</td><td>1948 Summer</td><td>1948</td><td>Summer</td><td>London        </td><td>Gymnastics   </td><td>Gymnastics Men's Team All-Around</td><td>Gold</td></tr>\n",
              "\t<tr><th scope=row>45</th><td>17</td><td>Paavo Johannes Aaltonen  </td><td>M</td><td>28</td><td>175</td><td>64</td><td>Finland       </td><td>FIN</td><td>1948 Summer</td><td>1948</td><td>Summer</td><td>London        </td><td>Gymnastics   </td><td>Gymnastics Men's Horse Vault    </td><td>Gold</td></tr>\n",
              "\t<tr><th scope=row>49</th><td>17</td><td>Paavo Johannes Aaltonen  </td><td>M</td><td>28</td><td>175</td><td>64</td><td>Finland       </td><td>FIN</td><td>1948 Summer</td><td>1948</td><td>Summer</td><td>London        </td><td>Gymnastics   </td><td>Gymnastics Men's Pommelled Horse</td><td>Gold</td></tr>\n",
              "\t<tr><th scope=row>61</th><td>20</td><td>Kjetil Andr Aamodt       </td><td>M</td><td>20</td><td>176</td><td>85</td><td>Norway        </td><td>NOR</td><td>1992 Winter</td><td>1992</td><td>Winter</td><td>Albertville   </td><td>Alpine Skiing</td><td>Alpine Skiing Men's Super G     </td><td>Gold</td></tr>\n",
              "\t<tr><th scope=row>74</th><td>20</td><td>Kjetil Andr Aamodt       </td><td>M</td><td>30</td><td>176</td><td>85</td><td>Norway        </td><td>NOR</td><td>2002 Winter</td><td>2002</td><td>Winter</td><td>Salt Lake City</td><td>Alpine Skiing</td><td>Alpine Skiing Men's Super G     </td><td>Gold</td></tr>\n",
              "\t<tr><th scope=row>77</th><td>20</td><td>Kjetil Andr Aamodt       </td><td>M</td><td>30</td><td>176</td><td>85</td><td>Norway        </td><td>NOR</td><td>2002 Winter</td><td>2002</td><td>Winter</td><td>Salt Lake City</td><td>Alpine Skiing</td><td>Alpine Skiing Men's Combined    </td><td>Gold</td></tr>\n",
              "\t<tr><th scope=row>79</th><td>20</td><td>Kjetil Andr Aamodt       </td><td>M</td><td>34</td><td>176</td><td>85</td><td>Norway        </td><td>NOR</td><td>2006 Winter</td><td>2006</td><td>Winter</td><td>Torino        </td><td>Alpine Skiing</td><td>Alpine Skiing Men's Super G     </td><td>Gold</td></tr>\n",
              "\t<tr><th scope=row>80</th><td>21</td><td>Ragnhild Margrethe Aamodt</td><td>F</td><td>27</td><td>163</td><td>NA</td><td>Norway        </td><td>NOR</td><td>2008 Summer</td><td>2008</td><td>Summer</td><td>Beijing       </td><td>Handball     </td><td>Handball Women's Handball       </td><td>Gold</td></tr>\n",
              "\t<tr><th scope=row>114</th><td>40</td><td>Roald Edgar Aas          </td><td>M</td><td>31</td><td> NA</td><td>NA</td><td>Norway        </td><td>NOR</td><td>1960 Winter</td><td>1960</td><td>Winter</td><td>Squaw Valley  </td><td>Speed Skating</td><td>Speed Skating Men's 1,500 metres</td><td>Gold</td></tr>\n",
              "</tbody>\n",
              "</table>\n"
            ],
            "text/markdown": "\nA data.frame: 10 × 15\n\n| <!--/--> | ID &lt;int&gt; | Name &lt;chr&gt; | Sex &lt;chr&gt; | Age &lt;int&gt; | Height &lt;int&gt; | Weight &lt;dbl&gt; | Team &lt;chr&gt; | NOC &lt;chr&gt; | Games &lt;chr&gt; | Year &lt;int&gt; | Season &lt;chr&gt; | City &lt;chr&gt; | Sport &lt;chr&gt; | Event &lt;chr&gt; | Medal &lt;chr&gt; |\n|---|---|---|---|---|---|---|---|---|---|---|---|---|---|---|---|\n| 4 |  4 | Edgar Lindenau Aabye      | M | 34 |  NA | NA | Denmark/Sweden | DEN | 1900 Summer | 1900 | Summer | Paris          | Tug-Of-War    | Tug-Of-War Men's Tug-Of-War      | Gold |\n| 43 | 17 | Paavo Johannes Aaltonen   | M | 28 | 175 | 64 | Finland        | FIN | 1948 Summer | 1948 | Summer | London         | Gymnastics    | Gymnastics Men's Team All-Around | Gold |\n| 45 | 17 | Paavo Johannes Aaltonen   | M | 28 | 175 | 64 | Finland        | FIN | 1948 Summer | 1948 | Summer | London         | Gymnastics    | Gymnastics Men's Horse Vault     | Gold |\n| 49 | 17 | Paavo Johannes Aaltonen   | M | 28 | 175 | 64 | Finland        | FIN | 1948 Summer | 1948 | Summer | London         | Gymnastics    | Gymnastics Men's Pommelled Horse | Gold |\n| 61 | 20 | Kjetil Andr Aamodt        | M | 20 | 176 | 85 | Norway         | NOR | 1992 Winter | 1992 | Winter | Albertville    | Alpine Skiing | Alpine Skiing Men's Super G      | Gold |\n| 74 | 20 | Kjetil Andr Aamodt        | M | 30 | 176 | 85 | Norway         | NOR | 2002 Winter | 2002 | Winter | Salt Lake City | Alpine Skiing | Alpine Skiing Men's Super G      | Gold |\n| 77 | 20 | Kjetil Andr Aamodt        | M | 30 | 176 | 85 | Norway         | NOR | 2002 Winter | 2002 | Winter | Salt Lake City | Alpine Skiing | Alpine Skiing Men's Combined     | Gold |\n| 79 | 20 | Kjetil Andr Aamodt        | M | 34 | 176 | 85 | Norway         | NOR | 2006 Winter | 2006 | Winter | Torino         | Alpine Skiing | Alpine Skiing Men's Super G      | Gold |\n| 80 | 21 | Ragnhild Margrethe Aamodt | F | 27 | 163 | NA | Norway         | NOR | 2008 Summer | 2008 | Summer | Beijing        | Handball      | Handball Women's Handball        | Gold |\n| 114 | 40 | Roald Edgar Aas           | M | 31 |  NA | NA | Norway         | NOR | 1960 Winter | 1960 | Winter | Squaw Valley   | Speed Skating | Speed Skating Men's 1,500 metres | Gold |\n\n",
            "text/latex": "A data.frame: 10 × 15\n\\begin{tabular}{r|lllllllllllllll}\n  & ID & Name & Sex & Age & Height & Weight & Team & NOC & Games & Year & Season & City & Sport & Event & Medal\\\\\n  & <int> & <chr> & <chr> & <int> & <int> & <dbl> & <chr> & <chr> & <chr> & <int> & <chr> & <chr> & <chr> & <chr> & <chr>\\\\\n\\hline\n\t4 &  4 & Edgar Lindenau Aabye      & M & 34 &  NA & NA & Denmark/Sweden & DEN & 1900 Summer & 1900 & Summer & Paris          & Tug-Of-War    & Tug-Of-War Men's Tug-Of-War      & Gold\\\\\n\t43 & 17 & Paavo Johannes Aaltonen   & M & 28 & 175 & 64 & Finland        & FIN & 1948 Summer & 1948 & Summer & London         & Gymnastics    & Gymnastics Men's Team All-Around & Gold\\\\\n\t45 & 17 & Paavo Johannes Aaltonen   & M & 28 & 175 & 64 & Finland        & FIN & 1948 Summer & 1948 & Summer & London         & Gymnastics    & Gymnastics Men's Horse Vault     & Gold\\\\\n\t49 & 17 & Paavo Johannes Aaltonen   & M & 28 & 175 & 64 & Finland        & FIN & 1948 Summer & 1948 & Summer & London         & Gymnastics    & Gymnastics Men's Pommelled Horse & Gold\\\\\n\t61 & 20 & Kjetil Andr Aamodt        & M & 20 & 176 & 85 & Norway         & NOR & 1992 Winter & 1992 & Winter & Albertville    & Alpine Skiing & Alpine Skiing Men's Super G      & Gold\\\\\n\t74 & 20 & Kjetil Andr Aamodt        & M & 30 & 176 & 85 & Norway         & NOR & 2002 Winter & 2002 & Winter & Salt Lake City & Alpine Skiing & Alpine Skiing Men's Super G      & Gold\\\\\n\t77 & 20 & Kjetil Andr Aamodt        & M & 30 & 176 & 85 & Norway         & NOR & 2002 Winter & 2002 & Winter & Salt Lake City & Alpine Skiing & Alpine Skiing Men's Combined     & Gold\\\\\n\t79 & 20 & Kjetil Andr Aamodt        & M & 34 & 176 & 85 & Norway         & NOR & 2006 Winter & 2006 & Winter & Torino         & Alpine Skiing & Alpine Skiing Men's Super G      & Gold\\\\\n\t80 & 21 & Ragnhild Margrethe Aamodt & F & 27 & 163 & NA & Norway         & NOR & 2008 Summer & 2008 & Summer & Beijing        & Handball      & Handball Women's Handball        & Gold\\\\\n\t114 & 40 & Roald Edgar Aas           & M & 31 &  NA & NA & Norway         & NOR & 1960 Winter & 1960 & Winter & Squaw Valley   & Speed Skating & Speed Skating Men's 1,500 metres & Gold\\\\\n\\end{tabular}\n",
            "text/plain": [
              "    ID Name                      Sex Age Height Weight Team           NOC\n",
              "4    4 Edgar Lindenau Aabye      M   34   NA    NA     Denmark/Sweden DEN\n",
              "43  17 Paavo Johannes Aaltonen   M   28  175    64     Finland        FIN\n",
              "45  17 Paavo Johannes Aaltonen   M   28  175    64     Finland        FIN\n",
              "49  17 Paavo Johannes Aaltonen   M   28  175    64     Finland        FIN\n",
              "61  20 Kjetil Andr Aamodt        M   20  176    85     Norway         NOR\n",
              "74  20 Kjetil Andr Aamodt        M   30  176    85     Norway         NOR\n",
              "77  20 Kjetil Andr Aamodt        M   30  176    85     Norway         NOR\n",
              "79  20 Kjetil Andr Aamodt        M   34  176    85     Norway         NOR\n",
              "80  21 Ragnhild Margrethe Aamodt F   27  163    NA     Norway         NOR\n",
              "114 40 Roald Edgar Aas           M   31   NA    NA     Norway         NOR\n",
              "    Games       Year Season City           Sport        \n",
              "4   1900 Summer 1900 Summer Paris          Tug-Of-War   \n",
              "43  1948 Summer 1948 Summer London         Gymnastics   \n",
              "45  1948 Summer 1948 Summer London         Gymnastics   \n",
              "49  1948 Summer 1948 Summer London         Gymnastics   \n",
              "61  1992 Winter 1992 Winter Albertville    Alpine Skiing\n",
              "74  2002 Winter 2002 Winter Salt Lake City Alpine Skiing\n",
              "77  2002 Winter 2002 Winter Salt Lake City Alpine Skiing\n",
              "79  2006 Winter 2006 Winter Torino         Alpine Skiing\n",
              "80  2008 Summer 2008 Summer Beijing        Handball     \n",
              "114 1960 Winter 1960 Winter Squaw Valley   Speed Skating\n",
              "    Event                            Medal\n",
              "4   Tug-Of-War Men's Tug-Of-War      Gold \n",
              "43  Gymnastics Men's Team All-Around Gold \n",
              "45  Gymnastics Men's Horse Vault     Gold \n",
              "49  Gymnastics Men's Pommelled Horse Gold \n",
              "61  Alpine Skiing Men's Super G      Gold \n",
              "74  Alpine Skiing Men's Super G      Gold \n",
              "77  Alpine Skiing Men's Combined     Gold \n",
              "79  Alpine Skiing Men's Super G      Gold \n",
              "80  Handball Women's Handball        Gold \n",
              "114 Speed Skating Men's 1,500 metres Gold "
            ]
          },
          "metadata": {}
        }
      ]
    },
    {
      "cell_type": "markdown",
      "source": [
        "*   We used table function to create table for gold medalist and used sort function to sort the gold medalist in ascending order of medals received.\n",
        "\n",
        "\n",
        "\n"
      ],
      "metadata": {
        "id": "k7HPTTYlfBXI"
      }
    },
    {
      "cell_type": "code",
      "source": [
        "top_medalist <- sort(table(medal_gold$Name))"
      ],
      "metadata": {
        "id": "pX4VZkCX54fI"
      },
      "execution_count": null,
      "outputs": []
    },
    {
      "cell_type": "markdown",
      "source": [
        "\n",
        "\n",
        "*   We created a data frame of top gold medalist using data.frame function to find out top 10 gold medalist\n",
        "\n"
      ],
      "metadata": {
        "id": "pGQgmX-JgJi5"
      }
    },
    {
      "cell_type": "code",
      "source": [
        "Top_Gold_Medalist <- data.frame(c(top_medalist))"
      ],
      "metadata": {
        "id": "NVyP_WUPcJV_"
      },
      "execution_count": null,
      "outputs": []
    },
    {
      "cell_type": "markdown",
      "source": [
        "*   Printed list of 10 top gold medalist using tail function"
      ],
      "metadata": {
        "id": "OEh5A5ISgGa9"
      }
    },
    {
      "cell_type": "code",
      "source": [
        "count_medal <- tail(top_medalist, 10)\n",
        "count_medal\n",
        "names_athletes <- names(count_medal)"
      ],
      "metadata": {
        "colab": {
          "base_uri": "https://localhost:8080/",
          "height": 208
        },
        "id": "PSn-VUG0cPOa",
        "outputId": "1dfd3938-8f87-417a-9b8f-cfeaea0a2e4a"
      },
      "execution_count": null,
      "outputs": [
        {
          "output_type": "display_data",
          "data": {
            "text/plain": [
              "\n",
              "    Matthew Nicholas \"Matt\" Biondi                Ole Einar Bjrndalen \n",
              "                                 8                                  8 \n",
              "                        Sawao Kato                 Usain St. Leo Bolt \n",
              "                                 8                                  8 \n",
              "    Frederick Carlton \"Carl\" Lewis Larysa Semenivna Latynina (Diriy-) \n",
              "                                 9                                  9 \n",
              "                 Mark Andrew Spitz               Paavo Johannes Nurmi \n",
              "                                 9                                  9 \n",
              "       Raymond Clarence \"Ray\" Ewry            Michael Fred Phelps, II \n",
              "                                10                                 23 "
            ]
          },
          "metadata": {}
        }
      ]
    },
    {
      "cell_type": "markdown",
      "source": [
        "# **`Series : `**"
      ],
      "metadata": {
        "id": "ByRmrwyBtsdI"
      }
    },
    {
      "cell_type": "code",
      "source": [
        "Series <- medal_gold |> select(Name, Age, Sport, Event, Medal)\n",
        "head(Series)"
      ],
      "metadata": {
        "colab": {
          "base_uri": "https://localhost:8080/",
          "height": 286
        },
        "id": "jycPg8H1ucE-",
        "outputId": "59be15e3-ec13-4c01-b884-8df18ac3e4f0"
      },
      "execution_count": null,
      "outputs": [
        {
          "output_type": "display_data",
          "data": {
            "text/html": [
              "<table class=\"dataframe\">\n",
              "<caption>A data.frame: 6 × 5</caption>\n",
              "<thead>\n",
              "\t<tr><th></th><th scope=col>Name</th><th scope=col>Age</th><th scope=col>Sport</th><th scope=col>Event</th><th scope=col>Medal</th></tr>\n",
              "\t<tr><th></th><th scope=col>&lt;chr&gt;</th><th scope=col>&lt;int&gt;</th><th scope=col>&lt;chr&gt;</th><th scope=col>&lt;chr&gt;</th><th scope=col>&lt;chr&gt;</th></tr>\n",
              "</thead>\n",
              "<tbody>\n",
              "\t<tr><th scope=row>4</th><td>Edgar Lindenau Aabye   </td><td>34</td><td>Tug-Of-War   </td><td>Tug-Of-War Men's Tug-Of-War     </td><td>Gold</td></tr>\n",
              "\t<tr><th scope=row>43</th><td>Paavo Johannes Aaltonen</td><td>28</td><td>Gymnastics   </td><td>Gymnastics Men's Team All-Around</td><td>Gold</td></tr>\n",
              "\t<tr><th scope=row>45</th><td>Paavo Johannes Aaltonen</td><td>28</td><td>Gymnastics   </td><td>Gymnastics Men's Horse Vault    </td><td>Gold</td></tr>\n",
              "\t<tr><th scope=row>49</th><td>Paavo Johannes Aaltonen</td><td>28</td><td>Gymnastics   </td><td>Gymnastics Men's Pommelled Horse</td><td>Gold</td></tr>\n",
              "\t<tr><th scope=row>61</th><td>Kjetil Andr Aamodt     </td><td>20</td><td>Alpine Skiing</td><td>Alpine Skiing Men's Super G     </td><td>Gold</td></tr>\n",
              "\t<tr><th scope=row>74</th><td>Kjetil Andr Aamodt     </td><td>30</td><td>Alpine Skiing</td><td>Alpine Skiing Men's Super G     </td><td>Gold</td></tr>\n",
              "</tbody>\n",
              "</table>\n"
            ],
            "text/markdown": "\nA data.frame: 6 × 5\n\n| <!--/--> | Name &lt;chr&gt; | Age &lt;int&gt; | Sport &lt;chr&gt; | Event &lt;chr&gt; | Medal &lt;chr&gt; |\n|---|---|---|---|---|---|\n| 4 | Edgar Lindenau Aabye    | 34 | Tug-Of-War    | Tug-Of-War Men's Tug-Of-War      | Gold |\n| 43 | Paavo Johannes Aaltonen | 28 | Gymnastics    | Gymnastics Men's Team All-Around | Gold |\n| 45 | Paavo Johannes Aaltonen | 28 | Gymnastics    | Gymnastics Men's Horse Vault     | Gold |\n| 49 | Paavo Johannes Aaltonen | 28 | Gymnastics    | Gymnastics Men's Pommelled Horse | Gold |\n| 61 | Kjetil Andr Aamodt      | 20 | Alpine Skiing | Alpine Skiing Men's Super G      | Gold |\n| 74 | Kjetil Andr Aamodt      | 30 | Alpine Skiing | Alpine Skiing Men's Super G      | Gold |\n\n",
            "text/latex": "A data.frame: 6 × 5\n\\begin{tabular}{r|lllll}\n  & Name & Age & Sport & Event & Medal\\\\\n  & <chr> & <int> & <chr> & <chr> & <chr>\\\\\n\\hline\n\t4 & Edgar Lindenau Aabye    & 34 & Tug-Of-War    & Tug-Of-War Men's Tug-Of-War      & Gold\\\\\n\t43 & Paavo Johannes Aaltonen & 28 & Gymnastics    & Gymnastics Men's Team All-Around & Gold\\\\\n\t45 & Paavo Johannes Aaltonen & 28 & Gymnastics    & Gymnastics Men's Horse Vault     & Gold\\\\\n\t49 & Paavo Johannes Aaltonen & 28 & Gymnastics    & Gymnastics Men's Pommelled Horse & Gold\\\\\n\t61 & Kjetil Andr Aamodt      & 20 & Alpine Skiing & Alpine Skiing Men's Super G      & Gold\\\\\n\t74 & Kjetil Andr Aamodt      & 30 & Alpine Skiing & Alpine Skiing Men's Super G      & Gold\\\\\n\\end{tabular}\n",
            "text/plain": [
              "   Name                    Age Sport         Event                           \n",
              "4  Edgar Lindenau Aabye    34  Tug-Of-War    Tug-Of-War Men's Tug-Of-War     \n",
              "43 Paavo Johannes Aaltonen 28  Gymnastics    Gymnastics Men's Team All-Around\n",
              "45 Paavo Johannes Aaltonen 28  Gymnastics    Gymnastics Men's Horse Vault    \n",
              "49 Paavo Johannes Aaltonen 28  Gymnastics    Gymnastics Men's Pommelled Horse\n",
              "61 Kjetil Andr Aamodt      20  Alpine Skiing Alpine Skiing Men's Super G     \n",
              "74 Kjetil Andr Aamodt      30  Alpine Skiing Alpine Skiing Men's Super G     \n",
              "   Medal\n",
              "4  Gold \n",
              "43 Gold \n",
              "45 Gold \n",
              "49 Gold \n",
              "61 Gold \n",
              "74 Gold "
            ]
          },
          "metadata": {}
        }
      ]
    },
    {
      "cell_type": "markdown",
      "source": [
        "# **`Plot : `**"
      ],
      "metadata": {
        "id": "0BPITfeWe3gw"
      }
    },
    {
      "cell_type": "markdown",
      "source": [
        "\n",
        "\n",
        "*  We used pipe operator to provide result of Top_Gold_Medalist\n",
        "*  ggplot used to construct plot of athletes on X axis and count of medals in Y axis\n",
        "*  geom_bar function is used for proportionality of height of bars in each group\n",
        "*   labs function is used for the title of graph\n",
        "\n",
        "\n",
        "\n",
        "\n",
        "\n"
      ],
      "metadata": {
        "id": "_0dCoWOPjK2m"
      }
    },
    {
      "cell_type": "code",
      "source": [
        "graph.df <- data.frame(count_medal,names_athletes)"
      ],
      "metadata": {
        "id": "dhIaHySr5aTU"
      },
      "execution_count": null,
      "outputs": []
    },
    {
      "cell_type": "code",
      "source": [
        "\n",
        "  ggplot(graph.df, aes(names_athletes,count_medal,fill = names_athletes)) +\n",
        "  geom_bar(stat = \"identity\", position = \"dodge\")+\n",
        "  labs(title = \"Top Gold Medalist\")\n"
      ],
      "metadata": {
        "colab": {
          "base_uri": "https://localhost:8080/",
          "height": 472
        },
        "id": "shIJ_G_rXBnR",
        "outputId": "89f8eabe-fc69-4219-e216-bac7c6e30442"
      },
      "execution_count": null,
      "outputs": [
        {
          "output_type": "stream",
          "name": "stderr",
          "text": [
            "\u001b[1m\u001b[22mDon't know how to automatically pick scale for object of type \u001b[34m<table>\u001b[39m.\n",
            "Defaulting to continuous.\n"
          ]
        },
        {
          "output_type": "display_data",
          "data": {
            "text/plain": [
              "plot without title"
            ],
            "image/png": "[encoded data removed]"
          },
          "metadata": {
            "image/png": {
              "width": 420,
              "height": 420
            }
          }
        }
      ]
    },
    {
      "cell_type": "markdown",
      "source": [
        "\n",
        "\n",
        "*  We aim to plot a graph for top played sports\n",
        "*  We used sort function to find number of top played sports from medal_gold data\n",
        "*  We assigned name_sports to the top played sports\n",
        "*  We printed sports and names_sports\n",
        "\n",
        "\n",
        "\n",
        "\n"
      ],
      "metadata": {
        "id": "pvWy85OHlhBx"
      }
    },
    {
      "cell_type": "code",
      "source": [
        "top_sport <- sort(table(medal_gold$Sport))\n",
        "sports <- tail(top_sport)\n",
        "sports\n",
        "names_sports <- names(sports)\n",
        "names_sports"
      ],
      "metadata": {
        "colab": {
          "base_uri": "https://localhost:8080/",
          "height": 86
        },
        "id": "yoZxfvWuEY5a",
        "outputId": "0f657439-4f72-4665-bbec-4015f568be92"
      },
      "execution_count": null,
      "outputs": [
        {
          "output_type": "display_data",
          "data": {
            "text/plain": [
              "\n",
              "    Hockey    Fencing Gymnastics     Rowing   Swimming  Athletics \n",
              "       518        594        791        978       1099       1339 "
            ]
          },
          "metadata": {}
        },
        {
          "output_type": "display_data",
          "data": {
            "text/html": [
              "<style>\n",
              ".list-inline {list-style: none; margin:0; padding: 0}\n",
              ".list-inline>li {display: inline-block}\n",
              ".list-inline>li:not(:last-child)::after {content: \"\\00b7\"; padding: 0 .5ex}\n",
              "</style>\n",
              "<ol class=list-inline><li>'Hockey'</li><li>'Fencing'</li><li>'Gymnastics'</li><li>'Rowing'</li><li>'Swimming'</li><li>'Athletics'</li></ol>\n"
            ],
            "text/markdown": "1. 'Hockey'\n2. 'Fencing'\n3. 'Gymnastics'\n4. 'Rowing'\n5. 'Swimming'\n6. 'Athletics'\n\n\n",
            "text/latex": "\\begin{enumerate*}\n\\item 'Hockey'\n\\item 'Fencing'\n\\item 'Gymnastics'\n\\item 'Rowing'\n\\item 'Swimming'\n\\item 'Athletics'\n\\end{enumerate*}\n",
            "text/plain": [
              "[1] \"Hockey\"     \"Fencing\"    \"Gymnastics\" \"Rowing\"     \"Swimming\"  \n",
              "[6] \"Athletics\" "
            ]
          },
          "metadata": {}
        }
      ]
    },
    {
      "cell_type": "markdown",
      "source": [
        "\n",
        "\n",
        "*   We created data frame for most played sports\n",
        "*  We printed the values of top 5 most played sports\n",
        "\n"
      ],
      "metadata": {
        "id": "lFiBw9vrmcNZ"
      }
    },
    {
      "cell_type": "code",
      "source": [
        "Sports <- data.frame(c(top_sport))\n",
        "top_5_sports <- tail(Sports)\n"
      ],
      "metadata": {
        "id": "eVja3cLqJexL"
      },
      "execution_count": null,
      "outputs": []
    },
    {
      "cell_type": "markdown",
      "source": [
        "\n",
        "\n",
        "*  We used pipe operator to provide result of Top_Sports\n",
        "*  ggplot used to construct plot of names of sports on X axis and count of in Y axis\n",
        "*  We used geom_bar function for proportionality of height of bars in each group\n",
        "*   labs function is used to give title Top Sports\n"
      ],
      "metadata": {
        "id": "wM7fhhF5oUrW"
      }
    },
    {
      "cell_type": "code",
      "source": [
        "Top_Sport |>\n",
        "  ggplot(aes(names_sports,sports,fill = sports)) +\n",
        "  geom_bar(stat = \"identity\", position = \"dodge\")+\n",
        "  labs(title = \"Top Sports\")"
      ],
      "metadata": {
        "colab": {
          "base_uri": "https://localhost:8080/",
          "height": 506
        },
        "id": "j39vc1u2IMNB",
        "outputId": "fa85e614-34b1-4503-f92a-c43ecd383037"
      },
      "execution_count": null,
      "outputs": [
        {
          "output_type": "stream",
          "name": "stderr",
          "text": [
            "\u001b[1m\u001b[22mDon't know how to automatically pick scale for object of type \u001b[34m<table>\u001b[39m.\n",
            "Defaulting to continuous.\n",
            "\u001b[1m\u001b[22mDon't know how to automatically pick scale for object of type \u001b[34m<table>\u001b[39m.\n",
            "Defaulting to continuous.\n"
          ]
        },
        {
          "output_type": "display_data",
          "data": {
            "text/plain": [
              "plot without title"
            ],
            "image/png": "[encoded data removed]"
          },
          "metadata": {
            "image/png": {
              "width": 420,
              "height": 420
            }
          }
        }
      ]
    },
    {
      "cell_type": "markdown",
      "source": [
        "# **`Summary : `**\n",
        "Based on the dataset, we have created a plot of top 6 gold medalists of olympics who have the potential to pursue sponsporship from Kellogg's and become the brand ambassador for their stratergic marketing."
      ],
      "metadata": {
        "id": "wZyWQrTdgscu"
      }
    },
    {
      "cell_type": "markdown",
      "source": [
        "# **`Recommendations : `**\n",
        "\n",
        "According to our analysis of athlete data, we found out the potential candidate for sponsorship. Michael Fred Phelps, II is the deserving canditate involved in the sport of Swimming. His excellent performance and achievements led our analysis to predict him for sponsorship. Kellogg's can appoint Michael Fred Phelps, II as the brand ambassador to increase the brand value and sales of their products."
      ],
      "metadata": {
        "id": "QH0ZS032g0pg"
      }
    }
  ]
}